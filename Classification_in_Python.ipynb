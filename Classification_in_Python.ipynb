{
  "nbformat": 4,
  "nbformat_minor": 0,
  "metadata": {
    "colab": {
      "provenance": [],
      "collapsed_sections": [
        "BNhhOtrEhwnb"
      ],
      "include_colab_link": true
    },
    "kernelspec": {
      "display_name": "Python 3",
      "language": "python",
      "name": "python3"
    },
    "language_info": {
      "codemirror_mode": {
        "name": "ipython",
        "version": 3
      },
      "file_extension": ".py",
      "mimetype": "text/x-python",
      "name": "python",
      "nbconvert_exporter": "python",
      "pygments_lexer": "ipython3",
      "version": "3.7.6"
    }
  },
  "cells": [
    {
      "cell_type": "markdown",
      "metadata": {
        "id": "view-in-github",
        "colab_type": "text"
      },
      "source": [
        "<a href=\"https://colab.research.google.com/github/eramirezcarlos/Font-Awesome-SVG-PNG/blob/master/Classification_in_Python.ipynb\" target=\"_parent\"><img src=\"https://colab.research.google.com/assets/colab-badge.svg\" alt=\"Open In Colab\"/></a>"
      ]
    },
    {
      "cell_type": "markdown",
      "metadata": {
        "id": "7Slt08Z6x69a"
      },
      "source": [
        "# Classification in Python"
      ]
    },
    {
      "cell_type": "markdown",
      "metadata": {
        "id": "Hnosk3PGXNSk"
      },
      "source": [
        "# Dataset: Prostate Cancer"
      ]
    },
    {
      "cell_type": "code",
      "metadata": {
        "colab": {
          "base_uri": "https://localhost:8080/",
          "height": 317
        },
        "id": "xvADBaN-WXQE",
        "outputId": "ea2782cb-9336-49cb-8e7e-8a9206dafad9"
      },
      "source": [
        "import pandas as pd\n",
        "dataset=pd.read_csv(\"CMTH642 Lab 9 prostate_cancer_dataset.csv\")\n",
        "dataset = dataset.drop('id', 1) # drop id column\n",
        "\n",
        "dataset.describe()"
      ],
      "execution_count": null,
      "outputs": [
        {
          "output_type": "execute_result",
          "data": {
            "text/html": [
              "<div>\n",
              "<style scoped>\n",
              "    .dataframe tbody tr th:only-of-type {\n",
              "        vertical-align: middle;\n",
              "    }\n",
              "\n",
              "    .dataframe tbody tr th {\n",
              "        vertical-align: top;\n",
              "    }\n",
              "\n",
              "    .dataframe thead th {\n",
              "        text-align: right;\n",
              "    }\n",
              "</style>\n",
              "<table border=\"1\" class=\"dataframe\">\n",
              "  <thead>\n",
              "    <tr style=\"text-align: right;\">\n",
              "      <th></th>\n",
              "      <th>radius</th>\n",
              "      <th>texture</th>\n",
              "      <th>perimeter</th>\n",
              "      <th>area</th>\n",
              "      <th>smoothness</th>\n",
              "      <th>compactness</th>\n",
              "      <th>symmetry</th>\n",
              "      <th>fractal_dimension</th>\n",
              "    </tr>\n",
              "  </thead>\n",
              "  <tbody>\n",
              "    <tr>\n",
              "      <th>count</th>\n",
              "      <td>100.000000</td>\n",
              "      <td>100.000000</td>\n",
              "      <td>100.000000</td>\n",
              "      <td>100.000000</td>\n",
              "      <td>100.000000</td>\n",
              "      <td>100.000000</td>\n",
              "      <td>100.000000</td>\n",
              "      <td>100.000000</td>\n",
              "    </tr>\n",
              "    <tr>\n",
              "      <th>mean</th>\n",
              "      <td>16.850000</td>\n",
              "      <td>18.230000</td>\n",
              "      <td>96.780000</td>\n",
              "      <td>702.880000</td>\n",
              "      <td>0.102730</td>\n",
              "      <td>0.126700</td>\n",
              "      <td>0.193170</td>\n",
              "      <td>0.064690</td>\n",
              "    </tr>\n",
              "    <tr>\n",
              "      <th>std</th>\n",
              "      <td>4.879094</td>\n",
              "      <td>5.192954</td>\n",
              "      <td>23.676089</td>\n",
              "      <td>319.710895</td>\n",
              "      <td>0.014642</td>\n",
              "      <td>0.061144</td>\n",
              "      <td>0.030785</td>\n",
              "      <td>0.008151</td>\n",
              "    </tr>\n",
              "    <tr>\n",
              "      <th>min</th>\n",
              "      <td>9.000000</td>\n",
              "      <td>11.000000</td>\n",
              "      <td>52.000000</td>\n",
              "      <td>202.000000</td>\n",
              "      <td>0.070000</td>\n",
              "      <td>0.038000</td>\n",
              "      <td>0.135000</td>\n",
              "      <td>0.053000</td>\n",
              "    </tr>\n",
              "    <tr>\n",
              "      <th>25%</th>\n",
              "      <td>12.000000</td>\n",
              "      <td>14.000000</td>\n",
              "      <td>82.500000</td>\n",
              "      <td>476.750000</td>\n",
              "      <td>0.093500</td>\n",
              "      <td>0.080500</td>\n",
              "      <td>0.172000</td>\n",
              "      <td>0.059000</td>\n",
              "    </tr>\n",
              "    <tr>\n",
              "      <th>50%</th>\n",
              "      <td>17.000000</td>\n",
              "      <td>17.500000</td>\n",
              "      <td>94.000000</td>\n",
              "      <td>644.000000</td>\n",
              "      <td>0.102000</td>\n",
              "      <td>0.118500</td>\n",
              "      <td>0.190000</td>\n",
              "      <td>0.063000</td>\n",
              "    </tr>\n",
              "    <tr>\n",
              "      <th>75%</th>\n",
              "      <td>21.000000</td>\n",
              "      <td>22.250000</td>\n",
              "      <td>114.250000</td>\n",
              "      <td>917.000000</td>\n",
              "      <td>0.112000</td>\n",
              "      <td>0.157000</td>\n",
              "      <td>0.209000</td>\n",
              "      <td>0.069000</td>\n",
              "    </tr>\n",
              "    <tr>\n",
              "      <th>max</th>\n",
              "      <td>25.000000</td>\n",
              "      <td>27.000000</td>\n",
              "      <td>172.000000</td>\n",
              "      <td>1878.000000</td>\n",
              "      <td>0.143000</td>\n",
              "      <td>0.345000</td>\n",
              "      <td>0.304000</td>\n",
              "      <td>0.097000</td>\n",
              "    </tr>\n",
              "  </tbody>\n",
              "</table>\n",
              "</div>"
            ],
            "text/plain": [
              "           radius     texture  ...    symmetry  fractal_dimension\n",
              "count  100.000000  100.000000  ...  100.000000         100.000000\n",
              "mean    16.850000   18.230000  ...    0.193170           0.064690\n",
              "std      4.879094    5.192954  ...    0.030785           0.008151\n",
              "min      9.000000   11.000000  ...    0.135000           0.053000\n",
              "25%     12.000000   14.000000  ...    0.172000           0.059000\n",
              "50%     17.000000   17.500000  ...    0.190000           0.063000\n",
              "75%     21.000000   22.250000  ...    0.209000           0.069000\n",
              "max     25.000000   27.000000  ...    0.304000           0.097000\n",
              "\n",
              "[8 rows x 8 columns]"
            ]
          },
          "metadata": {
            "tags": []
          },
          "execution_count": 4
        }
      ]
    },
    {
      "cell_type": "markdown",
      "metadata": {
        "id": "Dr2Ndz2mYE4T"
      },
      "source": [
        "The data set contains patients who have been diagnosed with either Malignant (M) or Benign (B) cancer.\n",
        "The variable diagnosis_result is our target variable i.e. this variable will determine the results of the diagnosis based on the 8 numeric variables.\n",
        "In case we wish to rename B as ”Benign” and M as “Malignant” and see the results in the percentage form, we may write:\n"
      ]
    },
    {
      "cell_type": "code",
      "metadata": {
        "colab": {
          "base_uri": "https://localhost:8080/"
        },
        "id": "FnLy2ftoXtmy",
        "outputId": "c352676c-d379-475e-c7bf-1c538a98d117"
      },
      "source": [
        "print(dataset['diagnosis_result'].value_counts())"
      ],
      "execution_count": null,
      "outputs": [
        {
          "output_type": "stream",
          "text": [
            "M    62\n",
            "B    38\n",
            "Name: diagnosis_result, dtype: int64\n"
          ],
          "name": "stdout"
        }
      ]
    },
    {
      "cell_type": "markdown",
      "metadata": {
        "id": "BNhhOtrEhwnb"
      },
      "source": [
        "# Data Normalization"
      ]
    },
    {
      "cell_type": "markdown",
      "metadata": {
        "id": "GVF81rJybt6t"
      },
      "source": [
        "Once we run this code, we are required to normalize the numeric features in the data set. Instead of normalizing each of the 8 individual variables we use:\n"
      ]
    },
    {
      "cell_type": "code",
      "metadata": {
        "id": "8A_FkSreaWSr"
      },
      "source": [
        "#Normalizing numeric data\n",
        "def normalize(x):\n",
        "  return ((x - min(x)) / (max(x) - min(x))) "
      ],
      "execution_count": null,
      "outputs": []
    },
    {
      "cell_type": "code",
      "metadata": {
        "colab": {
          "base_uri": "https://localhost:8080/"
        },
        "id": "S_xQU-5WaiBh",
        "outputId": "368a6664-6298-4257-b78b-a57a75a6cadc"
      },
      "source": [
        "X = list(set(list(dataset)) - set(['diagnosis_result']))\n",
        "#dataset_x = dataset.drop('diagnosis_result', 1)\n",
        "prc_n = dataset.iloc[:,].copy()\n",
        "prc_n[X] = prc_n[X].apply(normalize)\n",
        "prc_n"
      ],
      "execution_count": null,
      "outputs": [
        {
          "output_type": "execute_result",
          "data": {
            "text/html": [
              "<div>\n",
              "<style scoped>\n",
              "    .dataframe tbody tr th:only-of-type {\n",
              "        vertical-align: middle;\n",
              "    }\n",
              "\n",
              "    .dataframe tbody tr th {\n",
              "        vertical-align: top;\n",
              "    }\n",
              "\n",
              "    .dataframe thead th {\n",
              "        text-align: right;\n",
              "    }\n",
              "</style>\n",
              "<table border=\"1\" class=\"dataframe\">\n",
              "  <thead>\n",
              "    <tr style=\"text-align: right;\">\n",
              "      <th></th>\n",
              "      <th>diagnosis_result</th>\n",
              "      <th>radius</th>\n",
              "      <th>texture</th>\n",
              "      <th>perimeter</th>\n",
              "      <th>area</th>\n",
              "      <th>smoothness</th>\n",
              "      <th>compactness</th>\n",
              "      <th>symmetry</th>\n",
              "      <th>fractal_dimension</th>\n",
              "    </tr>\n",
              "  </thead>\n",
              "  <tbody>\n",
              "    <tr>\n",
              "      <th>0</th>\n",
              "      <td>M</td>\n",
              "      <td>0.8750</td>\n",
              "      <td>0.0625</td>\n",
              "      <td>0.825000</td>\n",
              "      <td>0.448687</td>\n",
              "      <td>1.000000</td>\n",
              "      <td>0.781759</td>\n",
              "      <td>0.633136</td>\n",
              "      <td>0.590909</td>\n",
              "    </tr>\n",
              "    <tr>\n",
              "      <th>1</th>\n",
              "      <td>B</td>\n",
              "      <td>0.0000</td>\n",
              "      <td>0.1250</td>\n",
              "      <td>0.675000</td>\n",
              "      <td>0.670644</td>\n",
              "      <td>1.000000</td>\n",
              "      <td>0.133550</td>\n",
              "      <td>0.272189</td>\n",
              "      <td>0.090909</td>\n",
              "    </tr>\n",
              "    <tr>\n",
              "      <th>2</th>\n",
              "      <td>M</td>\n",
              "      <td>0.7500</td>\n",
              "      <td>1.0000</td>\n",
              "      <td>0.650000</td>\n",
              "      <td>0.597255</td>\n",
              "      <td>0.753425</td>\n",
              "      <td>0.397394</td>\n",
              "      <td>0.426036</td>\n",
              "      <td>0.159091</td>\n",
              "    </tr>\n",
              "    <tr>\n",
              "      <th>3</th>\n",
              "      <td>M</td>\n",
              "      <td>0.3125</td>\n",
              "      <td>0.3125</td>\n",
              "      <td>0.216667</td>\n",
              "      <td>0.109785</td>\n",
              "      <td>0.000000</td>\n",
              "      <td>0.801303</td>\n",
              "      <td>0.739645</td>\n",
              "      <td>1.000000</td>\n",
              "    </tr>\n",
              "    <tr>\n",
              "      <th>4</th>\n",
              "      <td>M</td>\n",
              "      <td>0.0000</td>\n",
              "      <td>0.5000</td>\n",
              "      <td>0.691667</td>\n",
              "      <td>0.653341</td>\n",
              "      <td>0.972603</td>\n",
              "      <td>0.309446</td>\n",
              "      <td>0.272189</td>\n",
              "      <td>0.136364</td>\n",
              "    </tr>\n",
              "    <tr>\n",
              "      <th>...</th>\n",
              "      <td>...</td>\n",
              "      <td>...</td>\n",
              "      <td>...</td>\n",
              "      <td>...</td>\n",
              "      <td>...</td>\n",
              "      <td>...</td>\n",
              "      <td>...</td>\n",
              "      <td>...</td>\n",
              "      <td>...</td>\n",
              "    </tr>\n",
              "    <tr>\n",
              "      <th>95</th>\n",
              "      <td>M</td>\n",
              "      <td>0.8750</td>\n",
              "      <td>0.3125</td>\n",
              "      <td>0.666667</td>\n",
              "      <td>0.633652</td>\n",
              "      <td>0.287671</td>\n",
              "      <td>0.302932</td>\n",
              "      <td>0.443787</td>\n",
              "      <td>0.068182</td>\n",
              "    </tr>\n",
              "    <tr>\n",
              "      <th>96</th>\n",
              "      <td>B</td>\n",
              "      <td>0.8125</td>\n",
              "      <td>0.1875</td>\n",
              "      <td>0.216667</td>\n",
              "      <td>0.148568</td>\n",
              "      <td>0.479452</td>\n",
              "      <td>0.107492</td>\n",
              "      <td>0.325444</td>\n",
              "      <td>0.295455</td>\n",
              "    </tr>\n",
              "    <tr>\n",
              "      <th>97</th>\n",
              "      <td>B</td>\n",
              "      <td>0.6250</td>\n",
              "      <td>1.0000</td>\n",
              "      <td>0.083333</td>\n",
              "      <td>0.055489</td>\n",
              "      <td>0.438356</td>\n",
              "      <td>0.048860</td>\n",
              "      <td>0.000000</td>\n",
              "      <td>0.363636</td>\n",
              "    </tr>\n",
              "    <tr>\n",
              "      <th>98</th>\n",
              "      <td>B</td>\n",
              "      <td>0.7500</td>\n",
              "      <td>0.8125</td>\n",
              "      <td>0.183333</td>\n",
              "      <td>0.125895</td>\n",
              "      <td>0.273973</td>\n",
              "      <td>0.120521</td>\n",
              "      <td>0.159763</td>\n",
              "      <td>0.295455</td>\n",
              "    </tr>\n",
              "    <tr>\n",
              "      <th>99</th>\n",
              "      <td>M</td>\n",
              "      <td>0.4375</td>\n",
              "      <td>1.0000</td>\n",
              "      <td>0.350000</td>\n",
              "      <td>0.263126</td>\n",
              "      <td>0.383562</td>\n",
              "      <td>0.247557</td>\n",
              "      <td>0.313609</td>\n",
              "      <td>0.250000</td>\n",
              "    </tr>\n",
              "  </tbody>\n",
              "</table>\n",
              "<p>100 rows × 9 columns</p>\n",
              "</div>"
            ],
            "text/plain": [
              "   diagnosis_result  radius  texture  ...  compactness  symmetry  fractal_dimension\n",
              "0                 M  0.8750   0.0625  ...     0.781759  0.633136           0.590909\n",
              "1                 B  0.0000   0.1250  ...     0.133550  0.272189           0.090909\n",
              "2                 M  0.7500   1.0000  ...     0.397394  0.426036           0.159091\n",
              "3                 M  0.3125   0.3125  ...     0.801303  0.739645           1.000000\n",
              "4                 M  0.0000   0.5000  ...     0.309446  0.272189           0.136364\n",
              "..              ...     ...      ...  ...          ...       ...                ...\n",
              "95                M  0.8750   0.3125  ...     0.302932  0.443787           0.068182\n",
              "96                B  0.8125   0.1875  ...     0.107492  0.325444           0.295455\n",
              "97                B  0.6250   1.0000  ...     0.048860  0.000000           0.363636\n",
              "98                B  0.7500   0.8125  ...     0.120521  0.159763           0.295455\n",
              "99                M  0.4375   1.0000  ...     0.247557  0.313609           0.250000\n",
              "\n",
              "[100 rows x 9 columns]"
            ]
          },
          "metadata": {
            "tags": []
          },
          "execution_count": 7
        }
      ]
    },
    {
      "cell_type": "markdown",
      "metadata": {
        "id": "Bh7SB7RRd5dY"
      },
      "source": [
        "Alternate way for normalizing the dataset"
      ]
    },
    {
      "cell_type": "code",
      "metadata": {
        "id": "SyXq9KwEdvPg"
      },
      "source": [
        "from sklearn.preprocessing import StandardScaler  \n",
        "scaler = StandardScaler()  \n",
        "\n",
        "dataset_x = dataset.drop('diagnosis_result', 1)\n",
        "prc_n = dataset_x.iloc[:,].copy()\n",
        "\n",
        "scaler.fit(prc_n)\n",
        "X = list(set(list(dataset)) - set(['diagnosis_result']))\n",
        "prc_n = pd.DataFrame(scaler.transform(prc_n[X]), columns=X)\n",
        "prc_n['diagnosis_result'] = dataset['diagnosis_result']"
      ],
      "execution_count": null,
      "outputs": []
    },
    {
      "cell_type": "markdown",
      "metadata": {
        "id": "L4_4p5kMb3n0"
      },
      "source": [
        "The first variable in our data set (after removal of id) is ‘diagnosis_result’ which is not numeric in nature. So, we start from 2nd variable. The function apply() applies normalize() to each feature in the data frame. \n",
        "Let’s check using the variable ‘radius’ whether the data has been normalized."
      ]
    },
    {
      "cell_type": "code",
      "metadata": {
        "colab": {
          "base_uri": "https://localhost:8080/"
        },
        "id": "Kbo0d1sEbulE",
        "outputId": "bb49e2d0-e54f-40b8-e85c-3441d32020f9"
      },
      "source": [
        "prc_n.describe()"
      ],
      "execution_count": null,
      "outputs": [
        {
          "output_type": "execute_result",
          "data": {
            "text/html": [
              "<div>\n",
              "<style scoped>\n",
              "    .dataframe tbody tr th:only-of-type {\n",
              "        vertical-align: middle;\n",
              "    }\n",
              "\n",
              "    .dataframe tbody tr th {\n",
              "        vertical-align: top;\n",
              "    }\n",
              "\n",
              "    .dataframe thead th {\n",
              "        text-align: right;\n",
              "    }\n",
              "</style>\n",
              "<table border=\"1\" class=\"dataframe\">\n",
              "  <thead>\n",
              "    <tr style=\"text-align: right;\">\n",
              "      <th></th>\n",
              "      <th>smoothness</th>\n",
              "      <th>perimeter</th>\n",
              "      <th>texture</th>\n",
              "      <th>symmetry</th>\n",
              "      <th>fractal_dimension</th>\n",
              "      <th>compactness</th>\n",
              "      <th>radius</th>\n",
              "      <th>area</th>\n",
              "    </tr>\n",
              "  </thead>\n",
              "  <tbody>\n",
              "    <tr>\n",
              "      <th>count</th>\n",
              "      <td>100.000000</td>\n",
              "      <td>100.000000</td>\n",
              "      <td>100.000000</td>\n",
              "      <td>100.000000</td>\n",
              "      <td>100.000000</td>\n",
              "      <td>1.000000e+02</td>\n",
              "      <td>100.000000</td>\n",
              "      <td>100.000000</td>\n",
              "    </tr>\n",
              "    <tr>\n",
              "      <th>mean</th>\n",
              "      <td>-3.449747</td>\n",
              "      <td>15.202470</td>\n",
              "      <td>-3.334407</td>\n",
              "      <td>-2.208955</td>\n",
              "      <td>-2.611138</td>\n",
              "      <td>-1.817990e-16</td>\n",
              "      <td>543.794895</td>\n",
              "      <td>86659.148353</td>\n",
              "    </tr>\n",
              "    <tr>\n",
              "      <th>std</th>\n",
              "      <td>0.003016</td>\n",
              "      <td>4.582241</td>\n",
              "      <td>0.220438</td>\n",
              "      <td>0.000097</td>\n",
              "      <td>0.559498</td>\n",
              "      <td>1.005038e+00</td>\n",
              "      <td>159.287587</td>\n",
              "      <td>39421.272496</td>\n",
              "    </tr>\n",
              "    <tr>\n",
              "      <th>min</th>\n",
              "      <td>-3.456489</td>\n",
              "      <td>6.535804</td>\n",
              "      <td>-3.641317</td>\n",
              "      <td>-2.209137</td>\n",
              "      <td>-3.413562</td>\n",
              "      <td>-1.457992e+00</td>\n",
              "      <td>287.516244</td>\n",
              "      <td>24899.204297</td>\n",
              "    </tr>\n",
              "    <tr>\n",
              "      <th>25%</th>\n",
              "      <td>-3.451648</td>\n",
              "      <td>12.438736</td>\n",
              "      <td>-3.513969</td>\n",
              "      <td>-2.209021</td>\n",
              "      <td>-3.001711</td>\n",
              "      <td>-7.594053e-01</td>\n",
              "      <td>385.457130</td>\n",
              "      <td>58776.669218</td>\n",
              "    </tr>\n",
              "    <tr>\n",
              "      <th>50%</th>\n",
              "      <td>-3.449898</td>\n",
              "      <td>14.664432</td>\n",
              "      <td>-3.365395</td>\n",
              "      <td>-2.208965</td>\n",
              "      <td>-2.727143</td>\n",
              "      <td>-1.347862e-01</td>\n",
              "      <td>548.691940</td>\n",
              "      <td>79399.075070</td>\n",
              "    </tr>\n",
              "    <tr>\n",
              "      <th>75%</th>\n",
              "      <td>-3.447838</td>\n",
              "      <td>18.583592</td>\n",
              "      <td>-3.163760</td>\n",
              "      <td>-2.208905</td>\n",
              "      <td>-2.315292</td>\n",
              "      <td>4.980515e-01</td>\n",
              "      <td>679.279788</td>\n",
              "      <td>113060.759959</td>\n",
              "    </tr>\n",
              "    <tr>\n",
              "      <th>max</th>\n",
              "      <td>-3.441452</td>\n",
              "      <td>29.760455</td>\n",
              "      <td>-2.962125</td>\n",
              "      <td>-2.208606</td>\n",
              "      <td>-0.393318</td>\n",
              "      <td>3.588272e+00</td>\n",
              "      <td>809.867635</td>\n",
              "      <td>231554.822884</td>\n",
              "    </tr>\n",
              "  </tbody>\n",
              "</table>\n",
              "</div>"
            ],
            "text/plain": [
              "       smoothness   perimeter  ...      radius           area\n",
              "count  100.000000  100.000000  ...  100.000000     100.000000\n",
              "mean    -3.449747   15.202470  ...  543.794895   86659.148353\n",
              "std      0.003016    4.582241  ...  159.287587   39421.272496\n",
              "min     -3.456489    6.535804  ...  287.516244   24899.204297\n",
              "25%     -3.451648   12.438736  ...  385.457130   58776.669218\n",
              "50%     -3.449898   14.664432  ...  548.691940   79399.075070\n",
              "75%     -3.447838   18.583592  ...  679.279788  113060.759959\n",
              "max     -3.441452   29.760455  ...  809.867635  231554.822884\n",
              "\n",
              "[8 rows x 8 columns]"
            ]
          },
          "metadata": {
            "tags": []
          },
          "execution_count": 9
        }
      ]
    },
    {
      "cell_type": "markdown",
      "metadata": {
        "id": "a_88ci-jcWpy"
      },
      "source": [
        "# Creating training and test data set:\n"
      ]
    },
    {
      "cell_type": "markdown",
      "metadata": {
        "id": "KpO7eBVgcVtJ"
      },
      "source": [
        "The kNN algorithm is applied to the training data set and the results are verified on the test data set.\n",
        "For this, we would  divide the data set into 2 portions in the ratio of 65: 35 (assumed) for the training and test data set respectively.\n",
        "We shall divide the prc_n data frame into prc_train and prc_test data frames"
      ]
    },
    {
      "cell_type": "code",
      "metadata": {
        "colab": {
          "base_uri": "https://localhost:8080/"
        },
        "id": "6jDGgkOdT0fr",
        "outputId": "dfb2cf44-2e16-468a-cb6d-c84864fa6c74"
      },
      "source": [
        "prc_n['diagnosis_result']"
      ],
      "execution_count": null,
      "outputs": [
        {
          "output_type": "execute_result",
          "data": {
            "text/plain": [
              "0     M\n",
              "1     B\n",
              "2     M\n",
              "3     M\n",
              "4     M\n",
              "     ..\n",
              "95    M\n",
              "96    B\n",
              "97    B\n",
              "98    B\n",
              "99    M\n",
              "Name: diagnosis_result, Length: 100, dtype: object"
            ]
          },
          "metadata": {
            "tags": []
          },
          "execution_count": 10
        }
      ]
    },
    {
      "cell_type": "code",
      "metadata": {
        "id": "X9NHbr1qccvo"
      },
      "source": [
        "from sklearn.model_selection import train_test_split\n",
        "prc_train, prc_test, y_train, y_test = train_test_split(prc_n[X], prc_n['diagnosis_result'], test_size=0.35, random_state=42)"
      ],
      "execution_count": null,
      "outputs": []
    },
    {
      "cell_type": "markdown",
      "metadata": {
        "id": "WcW8Eu19cquJ"
      },
      "source": [
        "Our target variable is ‘diagnosis_result' which is now y_train for training data and y_test for test data."
      ]
    },
    {
      "cell_type": "markdown",
      "metadata": {
        "id": "1fpHtWQOh1px"
      },
      "source": [
        "# kNN Model"
      ]
    },
    {
      "cell_type": "markdown",
      "metadata": {
        "id": "YWJwiOiXdWE3"
      },
      "source": [
        "The knn needs to be used to train a model for which we need to import kNeighborsClassifier from sklearn.neighbors. The kNeighborsClassifier() function identifies the k-nearest neighbors using Euclidean distance where k is a user-specified number.\n",
        "Now we are ready to use the function to classify test data"
      ]
    },
    {
      "cell_type": "code",
      "metadata": {
        "colab": {
          "base_uri": "https://localhost:8080/"
        },
        "id": "DiPjdF9xdZIe",
        "outputId": "e603ad10-db9d-498d-cd4a-55f2ab5227f1"
      },
      "source": [
        "from sklearn.neighbors import KNeighborsClassifier  \n",
        "classifier = KNeighborsClassifier(n_neighbors=5) \n",
        "classifier.fit(prc_train[X], y_train) \n"
      ],
      "execution_count": null,
      "outputs": [
        {
          "output_type": "execute_result",
          "data": {
            "text/plain": [
              "KNeighborsClassifier(algorithm='auto', leaf_size=30, metric='minkowski',\n",
              "                     metric_params=None, n_jobs=None, n_neighbors=5, p=2,\n",
              "                     weights='uniform')"
            ]
          },
          "metadata": {
            "tags": []
          },
          "execution_count": 12
        }
      ]
    },
    {
      "cell_type": "markdown",
      "metadata": {
        "id": "Qs5pBoONh-pz"
      },
      "source": [
        "# Prediction Results"
      ]
    },
    {
      "cell_type": "code",
      "metadata": {
        "colab": {
          "base_uri": "https://localhost:8080/"
        },
        "id": "pUb1hI6OgaeQ",
        "outputId": "faf453bd-ce8c-4a7e-d0b7-a9170a0223fb"
      },
      "source": [
        "y_pred = classifier.predict(prc_test)  \n",
        "y_pred"
      ],
      "execution_count": null,
      "outputs": [
        {
          "output_type": "execute_result",
          "data": {
            "text/plain": [
              "array(['M', 'M', 'M', 'M', 'B', 'B', 'M', 'B', 'M', 'M', 'M', 'M', 'B',\n",
              "       'M', 'M', 'M', 'B', 'M', 'M', 'B', 'B', 'B', 'M', 'M', 'B', 'M',\n",
              "       'B', 'B', 'B', 'M', 'M', 'B', 'M', 'M', 'B'], dtype=object)"
            ]
          },
          "metadata": {
            "tags": []
          },
          "execution_count": 13
        }
      ]
    },
    {
      "cell_type": "markdown",
      "metadata": {
        "id": "1e1SCGJ_hbnR"
      },
      "source": [
        "Confusion matrix"
      ]
    },
    {
      "cell_type": "code",
      "metadata": {
        "colab": {
          "base_uri": "https://localhost:8080/",
          "height": 296
        },
        "id": "bRbYV1e7gy0D",
        "outputId": "31758fca-4ea7-43b0-b0b0-781cf6539a71"
      },
      "source": [
        "from sklearn.metrics import plot_confusion_matrix\n",
        "plot_confusion_matrix(classifier, prc_test, y_test, labels=['M', 'B'])  "
      ],
      "execution_count": null,
      "outputs": [
        {
          "output_type": "execute_result",
          "data": {
            "text/plain": [
              "<sklearn.metrics._plot.confusion_matrix.ConfusionMatrixDisplay at 0x7f735e2c62d0>"
            ]
          },
          "metadata": {
            "tags": []
          },
          "execution_count": 14
        },
        {
          "output_type": "display_data",
          "data": {
            "image/png": "[encoded data removed]",
            "text/plain": [
              "<Figure size 432x288 with 2 Axes>"
            ]
          },
          "metadata": {
            "tags": [],
            "needs_background": "light"
          }
        }
      ]
    },
    {
      "cell_type": "markdown",
      "metadata": {
        "id": "LDdVG0mZxl0R"
      },
      "source": [
        "Prepared by Dr. Ceni Babaoglu."
      ]
    }
  ]
}