{
  "nbformat": 4,
  "nbformat_minor": 0,
  "metadata": {
    "colab": {
      "provenance": [],
      "include_colab_link": true
    },
    "language_info": {
      "name": "python"
    },
    "kernelspec": {
      "name": "python3",
      "display_name": "Python 3"
    }
  },
  "cells": [
    {
      "cell_type": "markdown",
      "metadata": {
        "id": "view-in-github",
        "colab_type": "text"
      },
      "source": [
        "<a href=\"https://colab.research.google.com/github/eramirezcarlos/Font-Awesome-SVG-PNG/blob/master/Logistic_Regression.ipynb\" target=\"_parent\"><img src=\"https://colab.research.google.com/assets/colab-badge.svg\" alt=\"Open In Colab\"/></a>"
      ]
    },
    {
      "cell_type": "markdown",
      "metadata": {
        "id": "YC2S-gB-xZHy"
      },
      "source": [
        "# Logistic Regression"
      ]
    },
    {
      "cell_type": "code",
      "metadata": {
        "id": "17P4XFghajjO",
        "colab": {
          "base_uri": "https://localhost:8080/"
        },
        "outputId": "4158e248-94f8-42cf-ff55-536a15571ae3"
      },
      "source": [
        "import pandas as pd\n",
        "from patsy import dmatrices\n",
        "import numpy as np\n",
        "import matplotlib.pyplot as plt\n",
        "from sklearn.model_selection import train_test_split\n",
        "import statsmodels.discrete.discrete_model as sm"
      ],
      "execution_count": null,
      "outputs": [
        {
          "output_type": "stream",
          "name": "stderr",
          "text": [
            "/usr/local/lib/python3.7/dist-packages/statsmodels/tools/_testing.py:19: FutureWarning: pandas.util.testing is deprecated. Use the functions in the public API at pandas.testing instead.\n",
            "  import pandas.util.testing as tm\n"
          ]
        }
      ]
    },
    {
      "cell_type": "markdown",
      "metadata": {
        "id": "J2_fV8yJzkTK"
      },
      "source": [
        "# Q1."
      ]
    },
    {
      "cell_type": "markdown",
      "metadata": {
        "id": "TFr-gfH-ztzD"
      },
      "source": [
        "We are interested to see how variables, such as GRE (Graduate Record Exam scores), GPA (grade point average) and prestige of the undergraduate institution, effect admission into graduate school at UCLA. The data for this analysis is collected from (http://stats.idre.ucla.edu/).\n",
        "The admit variable, admit/not admitted, is a binary variable. data can be obtained from our website from within R."
      ]
    },
    {
      "cell_type": "code",
      "metadata": {
        "id": "_6gfijuJhu0q",
        "colab": {
          "base_uri": "https://localhost:8080/"
        },
        "outputId": "7e7bb580-bb7c-468f-d12c-e58589ee6679"
      },
      "source": [
        "mydata = pd.read_csv(\"https://stats.idre.ucla.edu/stat/data/binary.csv\")\n",
        "## view the first few rows of the data\n",
        "mydata.head"
      ],
      "execution_count": null,
      "outputs": [
        {
          "output_type": "execute_result",
          "data": {
            "text/plain": [
              "<bound method NDFrame.head of      admit  gre   gpa  rank\n",
              "0        0  380  3.61     3\n",
              "1        1  660  3.67     3\n",
              "2        1  800  4.00     1\n",
              "3        1  640  3.19     4\n",
              "4        0  520  2.93     4\n",
              "..     ...  ...   ...   ...\n",
              "395      0  620  4.00     2\n",
              "396      0  560  3.04     3\n",
              "397      0  460  2.63     2\n",
              "398      0  700  3.65     2\n",
              "399      0  600  3.89     3\n",
              "\n",
              "[400 rows x 4 columns]>"
            ]
          },
          "metadata": {},
          "execution_count": 2
        }
      ]
    },
    {
      "cell_type": "markdown",
      "metadata": {
        "id": "T-eT7DqhFyjA"
      },
      "source": [
        "This dataset has a binary response (outcome, dependent) variable called admit. There are three predictor variables: gre, gpa and rank. We will treat the variables gre and gpa as continuous. The variable rank takes on the values 1 through 4. Institutions with a rank of 1 have the highest prestige, while those with a rank of 4 have the lowest. We can get basic descriptives for the entire data set by using summary. To get the standard deviations, we use sapply to apply the sd function to each variable in the dataset."
      ]
    },
    {
      "cell_type": "code",
      "metadata": {
        "id": "WrNDmvFuoltQ",
        "colab": {
          "base_uri": "https://localhost:8080/",
          "height": 300
        },
        "outputId": "32d642e2-7e0e-499f-eb1b-27d7bafc17fc"
      },
      "source": [
        "mydata.describe()"
      ],
      "execution_count": null,
      "outputs": [
        {
          "output_type": "execute_result",
          "data": {
            "text/plain": [
              "            admit         gre         gpa       rank\n",
              "count  400.000000  400.000000  400.000000  400.00000\n",
              "mean     0.317500  587.700000    3.389900    2.48500\n",
              "std      0.466087  115.516536    0.380567    0.94446\n",
              "min      0.000000  220.000000    2.260000    1.00000\n",
              "25%      0.000000  520.000000    3.130000    2.00000\n",
              "50%      0.000000  580.000000    3.395000    2.00000\n",
              "75%      1.000000  660.000000    3.670000    3.00000\n",
              "max      1.000000  800.000000    4.000000    4.00000"
            ],
            "text/html": [
              "\n",
              "  <div id=\"df-8d72e0c2-668d-4f4d-b982-0e15cfa66299\">\n",
              "    <div class=\"colab-df-container\">\n",
              "      <div>\n",
              "<style scoped>\n",
              "    .dataframe tbody tr th:only-of-type {\n",
              "        vertical-align: middle;\n",
              "    }\n",
              "\n",
              "    .dataframe tbody tr th {\n",
              "        vertical-align: top;\n",
              "    }\n",
              "\n",
              "    .dataframe thead th {\n",
              "        text-align: right;\n",
              "    }\n",
              "</style>\n",
              "<table border=\"1\" class=\"dataframe\">\n",
              "  <thead>\n",
              "    <tr style=\"text-align: right;\">\n",
              "      <th></th>\n",
              "      <th>admit</th>\n",
              "      <th>gre</th>\n",
              "      <th>gpa</th>\n",
              "      <th>rank</th>\n",
              "    </tr>\n",
              "  </thead>\n",
              "  <tbody>\n",
              "    <tr>\n",
              "      <th>count</th>\n",
              "      <td>400.000000</td>\n",
              "      <td>400.000000</td>\n",
              "      <td>400.000000</td>\n",
              "      <td>400.00000</td>\n",
              "    </tr>\n",
              "    <tr>\n",
              "      <th>mean</th>\n",
              "      <td>0.317500</td>\n",
              "      <td>587.700000</td>\n",
              "      <td>3.389900</td>\n",
              "      <td>2.48500</td>\n",
              "    </tr>\n",
              "    <tr>\n",
              "      <th>std</th>\n",
              "      <td>0.466087</td>\n",
              "      <td>115.516536</td>\n",
              "      <td>0.380567</td>\n",
              "      <td>0.94446</td>\n",
              "    </tr>\n",
              "    <tr>\n",
              "      <th>min</th>\n",
              "      <td>0.000000</td>\n",
              "      <td>220.000000</td>\n",
              "      <td>2.260000</td>\n",
              "      <td>1.00000</td>\n",
              "    </tr>\n",
              "    <tr>\n",
              "      <th>25%</th>\n",
              "      <td>0.000000</td>\n",
              "      <td>520.000000</td>\n",
              "      <td>3.130000</td>\n",
              "      <td>2.00000</td>\n",
              "    </tr>\n",
              "    <tr>\n",
              "      <th>50%</th>\n",
              "      <td>0.000000</td>\n",
              "      <td>580.000000</td>\n",
              "      <td>3.395000</td>\n",
              "      <td>2.00000</td>\n",
              "    </tr>\n",
              "    <tr>\n",
              "      <th>75%</th>\n",
              "      <td>1.000000</td>\n",
              "      <td>660.000000</td>\n",
              "      <td>3.670000</td>\n",
              "      <td>3.00000</td>\n",
              "    </tr>\n",
              "    <tr>\n",
              "      <th>max</th>\n",
              "      <td>1.000000</td>\n",
              "      <td>800.000000</td>\n",
              "      <td>4.000000</td>\n",
              "      <td>4.00000</td>\n",
              "    </tr>\n",
              "  </tbody>\n",
              "</table>\n",
              "</div>\n",
              "      <button class=\"colab-df-convert\" onclick=\"convertToInteractive('df-8d72e0c2-668d-4f4d-b982-0e15cfa66299')\"\n",
              "              title=\"Convert this dataframe to an interactive table.\"\n",
              "              style=\"display:none;\">\n",
              "        \n",
              "  <svg xmlns=\"http://www.w3.org/2000/svg\" height=\"24px\"viewBox=\"0 0 24 24\"\n",
              "       width=\"24px\">\n",
              "    <path d=\"M0 0h24v24H0V0z\" fill=\"none\"/>\n",
              "    <path d=\"M18.56 5.44l.94 2.06.94-2.06 2.06-.94-2.06-.94-.94-2.06-.94 2.06-2.06.94zm-11 1L8.5 8.5l.94-2.06 2.06-.94-2.06-.94L8.5 2.5l-.94 2.06-2.06.94zm10 10l.94 2.06.94-2.06 2.06-.94-2.06-.94-.94-2.06-.94 2.06-2.06.94z\"/><path d=\"M17.41 7.96l-1.37-1.37c-.4-.4-.92-.59-1.43-.59-.52 0-1.04.2-1.43.59L10.3 9.45l-7.72 7.72c-.78.78-.78 2.05 0 2.83L4 21.41c.39.39.9.59 1.41.59.51 0 1.02-.2 1.41-.59l7.78-7.78 2.81-2.81c.8-.78.8-2.07 0-2.86zM5.41 20L4 18.59l7.72-7.72 1.47 1.35L5.41 20z\"/>\n",
              "  </svg>\n",
              "      </button>\n",
              "      \n",
              "  <style>\n",
              "    .colab-df-container {\n",
              "      display:flex;\n",
              "      flex-wrap:wrap;\n",
              "      gap: 12px;\n",
              "    }\n",
              "\n",
              "    .colab-df-convert {\n",
              "      background-color: #E8F0FE;\n",
              "      border: none;\n",
              "      border-radius: 50%;\n",
              "      cursor: pointer;\n",
              "      display: none;\n",
              "      fill: #1967D2;\n",
              "      height: 32px;\n",
              "      padding: 0 0 0 0;\n",
              "      width: 32px;\n",
              "    }\n",
              "\n",
              "    .colab-df-convert:hover {\n",
              "      background-color: #E2EBFA;\n",
              "      box-shadow: 0px 1px 2px rgba(60, 64, 67, 0.3), 0px 1px 3px 1px rgba(60, 64, 67, 0.15);\n",
              "      fill: #174EA6;\n",
              "    }\n",
              "\n",
              "    [theme=dark] .colab-df-convert {\n",
              "      background-color: #3B4455;\n",
              "      fill: #D2E3FC;\n",
              "    }\n",
              "\n",
              "    [theme=dark] .colab-df-convert:hover {\n",
              "      background-color: #434B5C;\n",
              "      box-shadow: 0px 1px 3px 1px rgba(0, 0, 0, 0.15);\n",
              "      filter: drop-shadow(0px 1px 2px rgba(0, 0, 0, 0.3));\n",
              "      fill: #FFFFFF;\n",
              "    }\n",
              "  </style>\n",
              "\n",
              "      <script>\n",
              "        const buttonEl =\n",
              "          document.querySelector('#df-8d72e0c2-668d-4f4d-b982-0e15cfa66299 button.colab-df-convert');\n",
              "        buttonEl.style.display =\n",
              "          google.colab.kernel.accessAllowed ? 'block' : 'none';\n",
              "\n",
              "        async function convertToInteractive(key) {\n",
              "          const element = document.querySelector('#df-8d72e0c2-668d-4f4d-b982-0e15cfa66299');\n",
              "          const dataTable =\n",
              "            await google.colab.kernel.invokeFunction('convertToInteractive',\n",
              "                                                     [key], {});\n",
              "          if (!dataTable) return;\n",
              "\n",
              "          const docLinkHtml = 'Like what you see? Visit the ' +\n",
              "            '<a target=\"_blank\" href=https://colab.research.google.com/notebooks/data_table.ipynb>data table notebook</a>'\n",
              "            + ' to learn more about interactive tables.';\n",
              "          element.innerHTML = '';\n",
              "          dataTable['output_type'] = 'display_data';\n",
              "          await google.colab.output.renderOutput(dataTable, element);\n",
              "          const docLink = document.createElement('div');\n",
              "          docLink.innerHTML = docLinkHtml;\n",
              "          element.appendChild(docLink);\n",
              "        }\n",
              "      </script>\n",
              "    </div>\n",
              "  </div>\n",
              "  "
            ]
          },
          "metadata": {},
          "execution_count": 3
        }
      ]
    },
    {
      "cell_type": "markdown",
      "metadata": {
        "id": "U4zALurDHlu_"
      },
      "source": [
        "The code below estimates a logistic regression model using the glm (generalized linear model) function. First, we convert rank to a factor to indicate that rank should be treated as a categorical variable."
      ]
    },
    {
      "cell_type": "code",
      "metadata": {
        "id": "BaOM7Ns78HRi",
        "colab": {
          "base_uri": "https://localhost:8080/",
          "height": 423
        },
        "outputId": "79d220e7-c5a4-4f2c-ea40-81fec7d70188"
      },
      "source": [
        "mydata['rank_cat'] = mydata['rank'].astype('category')\n",
        "feature_cols = ['gre', 'gpa', 'rank_cat']\n",
        "X = mydata[feature_cols] # independent variable\n",
        "Y = mydata.admit # dependent variable\n",
        "X"
      ],
      "execution_count": null,
      "outputs": [
        {
          "output_type": "execute_result",
          "data": {
            "text/plain": [
              "     gre   gpa rank_cat\n",
              "0    380  3.61        3\n",
              "1    660  3.67        3\n",
              "2    800  4.00        1\n",
              "3    640  3.19        4\n",
              "4    520  2.93        4\n",
              "..   ...   ...      ...\n",
              "395  620  4.00        2\n",
              "396  560  3.04        3\n",
              "397  460  2.63        2\n",
              "398  700  3.65        2\n",
              "399  600  3.89        3\n",
              "\n",
              "[400 rows x 3 columns]"
            ],
            "text/html": [
              "\n",
              "  <div id=\"df-8801dbbe-1a34-416c-9669-072771028ffc\">\n",
              "    <div class=\"colab-df-container\">\n",
              "      <div>\n",
              "<style scoped>\n",
              "    .dataframe tbody tr th:only-of-type {\n",
              "        vertical-align: middle;\n",
              "    }\n",
              "\n",
              "    .dataframe tbody tr th {\n",
              "        vertical-align: top;\n",
              "    }\n",
              "\n",
              "    .dataframe thead th {\n",
              "        text-align: right;\n",
              "    }\n",
              "</style>\n",
              "<table border=\"1\" class=\"dataframe\">\n",
              "  <thead>\n",
              "    <tr style=\"text-align: right;\">\n",
              "      <th></th>\n",
              "      <th>gre</th>\n",
              "      <th>gpa</th>\n",
              "      <th>rank_cat</th>\n",
              "    </tr>\n",
              "  </thead>\n",
              "  <tbody>\n",
              "    <tr>\n",
              "      <th>0</th>\n",
              "      <td>380</td>\n",
              "      <td>3.61</td>\n",
              "      <td>3</td>\n",
              "    </tr>\n",
              "    <tr>\n",
              "      <th>1</th>\n",
              "      <td>660</td>\n",
              "      <td>3.67</td>\n",
              "      <td>3</td>\n",
              "    </tr>\n",
              "    <tr>\n",
              "      <th>2</th>\n",
              "      <td>800</td>\n",
              "      <td>4.00</td>\n",
              "      <td>1</td>\n",
              "    </tr>\n",
              "    <tr>\n",
              "      <th>3</th>\n",
              "      <td>640</td>\n",
              "      <td>3.19</td>\n",
              "      <td>4</td>\n",
              "    </tr>\n",
              "    <tr>\n",
              "      <th>4</th>\n",
              "      <td>520</td>\n",
              "      <td>2.93</td>\n",
              "      <td>4</td>\n",
              "    </tr>\n",
              "    <tr>\n",
              "      <th>...</th>\n",
              "      <td>...</td>\n",
              "      <td>...</td>\n",
              "      <td>...</td>\n",
              "    </tr>\n",
              "    <tr>\n",
              "      <th>395</th>\n",
              "      <td>620</td>\n",
              "      <td>4.00</td>\n",
              "      <td>2</td>\n",
              "    </tr>\n",
              "    <tr>\n",
              "      <th>396</th>\n",
              "      <td>560</td>\n",
              "      <td>3.04</td>\n",
              "      <td>3</td>\n",
              "    </tr>\n",
              "    <tr>\n",
              "      <th>397</th>\n",
              "      <td>460</td>\n",
              "      <td>2.63</td>\n",
              "      <td>2</td>\n",
              "    </tr>\n",
              "    <tr>\n",
              "      <th>398</th>\n",
              "      <td>700</td>\n",
              "      <td>3.65</td>\n",
              "      <td>2</td>\n",
              "    </tr>\n",
              "    <tr>\n",
              "      <th>399</th>\n",
              "      <td>600</td>\n",
              "      <td>3.89</td>\n",
              "      <td>3</td>\n",
              "    </tr>\n",
              "  </tbody>\n",
              "</table>\n",
              "<p>400 rows × 3 columns</p>\n",
              "</div>\n",
              "      <button class=\"colab-df-convert\" onclick=\"convertToInteractive('df-8801dbbe-1a34-416c-9669-072771028ffc')\"\n",
              "              title=\"Convert this dataframe to an interactive table.\"\n",
              "              style=\"display:none;\">\n",
              "        \n",
              "  <svg xmlns=\"http://www.w3.org/2000/svg\" height=\"24px\"viewBox=\"0 0 24 24\"\n",
              "       width=\"24px\">\n",
              "    <path d=\"M0 0h24v24H0V0z\" fill=\"none\"/>\n",
              "    <path d=\"M18.56 5.44l.94 2.06.94-2.06 2.06-.94-2.06-.94-.94-2.06-.94 2.06-2.06.94zm-11 1L8.5 8.5l.94-2.06 2.06-.94-2.06-.94L8.5 2.5l-.94 2.06-2.06.94zm10 10l.94 2.06.94-2.06 2.06-.94-2.06-.94-.94-2.06-.94 2.06-2.06.94z\"/><path d=\"M17.41 7.96l-1.37-1.37c-.4-.4-.92-.59-1.43-.59-.52 0-1.04.2-1.43.59L10.3 9.45l-7.72 7.72c-.78.78-.78 2.05 0 2.83L4 21.41c.39.39.9.59 1.41.59.51 0 1.02-.2 1.41-.59l7.78-7.78 2.81-2.81c.8-.78.8-2.07 0-2.86zM5.41 20L4 18.59l7.72-7.72 1.47 1.35L5.41 20z\"/>\n",
              "  </svg>\n",
              "      </button>\n",
              "      \n",
              "  <style>\n",
              "    .colab-df-container {\n",
              "      display:flex;\n",
              "      flex-wrap:wrap;\n",
              "      gap: 12px;\n",
              "    }\n",
              "\n",
              "    .colab-df-convert {\n",
              "      background-color: #E8F0FE;\n",
              "      border: none;\n",
              "      border-radius: 50%;\n",
              "      cursor: pointer;\n",
              "      display: none;\n",
              "      fill: #1967D2;\n",
              "      height: 32px;\n",
              "      padding: 0 0 0 0;\n",
              "      width: 32px;\n",
              "    }\n",
              "\n",
              "    .colab-df-convert:hover {\n",
              "      background-color: #E2EBFA;\n",
              "      box-shadow: 0px 1px 2px rgba(60, 64, 67, 0.3), 0px 1px 3px 1px rgba(60, 64, 67, 0.15);\n",
              "      fill: #174EA6;\n",
              "    }\n",
              "\n",
              "    [theme=dark] .colab-df-convert {\n",
              "      background-color: #3B4455;\n",
              "      fill: #D2E3FC;\n",
              "    }\n",
              "\n",
              "    [theme=dark] .colab-df-convert:hover {\n",
              "      background-color: #434B5C;\n",
              "      box-shadow: 0px 1px 3px 1px rgba(0, 0, 0, 0.15);\n",
              "      filter: drop-shadow(0px 1px 2px rgba(0, 0, 0, 0.3));\n",
              "      fill: #FFFFFF;\n",
              "    }\n",
              "  </style>\n",
              "\n",
              "      <script>\n",
              "        const buttonEl =\n",
              "          document.querySelector('#df-8801dbbe-1a34-416c-9669-072771028ffc button.colab-df-convert');\n",
              "        buttonEl.style.display =\n",
              "          google.colab.kernel.accessAllowed ? 'block' : 'none';\n",
              "\n",
              "        async function convertToInteractive(key) {\n",
              "          const element = document.querySelector('#df-8801dbbe-1a34-416c-9669-072771028ffc');\n",
              "          const dataTable =\n",
              "            await google.colab.kernel.invokeFunction('convertToInteractive',\n",
              "                                                     [key], {});\n",
              "          if (!dataTable) return;\n",
              "\n",
              "          const docLinkHtml = 'Like what you see? Visit the ' +\n",
              "            '<a target=\"_blank\" href=https://colab.research.google.com/notebooks/data_table.ipynb>data table notebook</a>'\n",
              "            + ' to learn more about interactive tables.';\n",
              "          element.innerHTML = '';\n",
              "          dataTable['output_type'] = 'display_data';\n",
              "          await google.colab.output.renderOutput(dataTable, element);\n",
              "          const docLink = document.createElement('div');\n",
              "          docLink.innerHTML = docLinkHtml;\n",
              "          element.appendChild(docLink);\n",
              "        }\n",
              "      </script>\n",
              "    </div>\n",
              "  </div>\n",
              "  "
            ]
          },
          "metadata": {},
          "execution_count": 4
        }
      ]
    },
    {
      "cell_type": "code",
      "metadata": {
        "id": "6GDBxYXESta7"
      },
      "source": [
        "y, X = dmatrices('admit ~ gre + gpa + C(rank)', mydata, return_type = 'dataframe')"
      ],
      "execution_count": null,
      "outputs": []
    },
    {
      "cell_type": "code",
      "metadata": {
        "id": "HpasMYnCIYks",
        "colab": {
          "base_uri": "https://localhost:8080/",
          "height": 384
        },
        "outputId": "ffe297b8-51dd-45c4-ea27-369ffc6169dc"
      },
      "source": [
        "logit = sm.Logit(Y, X)\n",
        "logreg = logit.fit()\n",
        "logreg.summary()"
      ],
      "execution_count": null,
      "outputs": [
        {
          "output_type": "stream",
          "name": "stdout",
          "text": [
            "Optimization terminated successfully.\n",
            "         Current function value: 0.573147\n",
            "         Iterations 6\n"
          ]
        },
        {
          "output_type": "execute_result",
          "data": {
            "text/plain": [
              "<class 'statsmodels.iolib.summary.Summary'>\n",
              "\"\"\"\n",
              "                           Logit Regression Results                           \n",
              "==============================================================================\n",
              "Dep. Variable:                  admit   No. Observations:                  400\n",
              "Model:                          Logit   Df Residuals:                      394\n",
              "Method:                           MLE   Df Model:                            5\n",
              "Date:                Tue, 31 May 2022   Pseudo R-squ.:                 0.08292\n",
              "Time:                        16:16:47   Log-Likelihood:                -229.26\n",
              "converged:                       True   LL-Null:                       -249.99\n",
              "Covariance Type:            nonrobust   LLR p-value:                 7.578e-08\n",
              "================================================================================\n",
              "                   coef    std err          z      P>|z|      [0.025      0.975]\n",
              "--------------------------------------------------------------------------------\n",
              "Intercept       -3.9900      1.140     -3.500      0.000      -6.224      -1.756\n",
              "C(rank)[T.2]    -0.6754      0.316     -2.134      0.033      -1.296      -0.055\n",
              "C(rank)[T.3]    -1.3402      0.345     -3.881      0.000      -2.017      -0.663\n",
              "C(rank)[T.4]    -1.5515      0.418     -3.713      0.000      -2.370      -0.733\n",
              "gre              0.0023      0.001      2.070      0.038       0.000       0.004\n",
              "gpa              0.8040      0.332      2.423      0.015       0.154       1.454\n",
              "================================================================================\n",
              "\"\"\""
            ],
            "text/html": [
              "<table class=\"simpletable\">\n",
              "<caption>Logit Regression Results</caption>\n",
              "<tr>\n",
              "  <th>Dep. Variable:</th>         <td>admit</td>      <th>  No. Observations:  </th>  <td>   400</td>  \n",
              "</tr>\n",
              "<tr>\n",
              "  <th>Model:</th>                 <td>Logit</td>      <th>  Df Residuals:      </th>  <td>   394</td>  \n",
              "</tr>\n",
              "<tr>\n",
              "  <th>Method:</th>                 <td>MLE</td>       <th>  Df Model:          </th>  <td>     5</td>  \n",
              "</tr>\n",
              "<tr>\n",
              "  <th>Date:</th>            <td>Tue, 31 May 2022</td> <th>  Pseudo R-squ.:     </th>  <td>0.08292</td> \n",
              "</tr>\n",
              "<tr>\n",
              "  <th>Time:</th>                <td>16:16:47</td>     <th>  Log-Likelihood:    </th> <td> -229.26</td> \n",
              "</tr>\n",
              "<tr>\n",
              "  <th>converged:</th>             <td>True</td>       <th>  LL-Null:           </th> <td> -249.99</td> \n",
              "</tr>\n",
              "<tr>\n",
              "  <th>Covariance Type:</th>     <td>nonrobust</td>    <th>  LLR p-value:       </th> <td>7.578e-08</td>\n",
              "</tr>\n",
              "</table>\n",
              "<table class=\"simpletable\">\n",
              "<tr>\n",
              "        <td></td>          <th>coef</th>     <th>std err</th>      <th>z</th>      <th>P>|z|</th>  <th>[0.025</th>    <th>0.975]</th>  \n",
              "</tr>\n",
              "<tr>\n",
              "  <th>Intercept</th>    <td>   -3.9900</td> <td>    1.140</td> <td>   -3.500</td> <td> 0.000</td> <td>   -6.224</td> <td>   -1.756</td>\n",
              "</tr>\n",
              "<tr>\n",
              "  <th>C(rank)[T.2]</th> <td>   -0.6754</td> <td>    0.316</td> <td>   -2.134</td> <td> 0.033</td> <td>   -1.296</td> <td>   -0.055</td>\n",
              "</tr>\n",
              "<tr>\n",
              "  <th>C(rank)[T.3]</th> <td>   -1.3402</td> <td>    0.345</td> <td>   -3.881</td> <td> 0.000</td> <td>   -2.017</td> <td>   -0.663</td>\n",
              "</tr>\n",
              "<tr>\n",
              "  <th>C(rank)[T.4]</th> <td>   -1.5515</td> <td>    0.418</td> <td>   -3.713</td> <td> 0.000</td> <td>   -2.370</td> <td>   -0.733</td>\n",
              "</tr>\n",
              "<tr>\n",
              "  <th>gre</th>          <td>    0.0023</td> <td>    0.001</td> <td>    2.070</td> <td> 0.038</td> <td>    0.000</td> <td>    0.004</td>\n",
              "</tr>\n",
              "<tr>\n",
              "  <th>gpa</th>          <td>    0.8040</td> <td>    0.332</td> <td>    2.423</td> <td> 0.015</td> <td>    0.154</td> <td>    1.454</td>\n",
              "</tr>\n",
              "</table>"
            ]
          },
          "metadata": {},
          "execution_count": 6
        }
      ]
    },
    {
      "cell_type": "markdown",
      "metadata": {
        "id": "hmtAAWoJJwZD"
      },
      "source": [
        "***\n",
        "How do you analyze the outputs of this model?\n",
        "\n",
        "***\n",
        "\n",
        "* In the output above, the first thing we see is the call, this is R reminding us what the model we ran was, what options we specified, etc.\n",
        "\n",
        "* Next we see the deviance residuals, which are a measure of model fit. This part of output shows the distribution of the deviance residuals for individual cases used in the model. Below we discuss how to use summaries of the deviance statistic to assess model fit.\n",
        "\n",
        "* The next part of the output shows the coefficients, their standard errors, the z-statistic (sometimes called a Wald z-statistic), and the associated p-values. Both gre and gpa are statistically significant, as are the three terms for rank. The logistic regression coefficients give the change in the log odds of the outcome for a one unit increase in the predictor variable.\n",
        "    + For every one unit change in GRE, the log odds of admission (versus non-admission) increases by 0.002.\n",
        "   \n",
        "    + For a one unit increase in GPA, the log odds of being admitted to graduate school increases by 0.804.\n",
        "    \n",
        "    + The indicator variables for rank have a slightly different interpretation. For example, having attended an undergraduate institution with rank of 2, versus an institution with a rank of 1, changes the log odds of admission by -0.675."
      ]
    },
    {
      "cell_type": "markdown",
      "metadata": {
        "id": "l3Reyy8_rZty"
      },
      "source": [
        "# Q2.\n"
      ]
    },
    {
      "cell_type": "markdown",
      "metadata": {
        "id": "YyOx1Q6LJ3l7"
      },
      "source": [
        "**Plotting logistic regression and classes in R**\n",
        "\n",
        "Create an imaginary dataset of 20 individuals of different body sizes\n"
      ]
    },
    {
      "cell_type": "code",
      "metadata": {
        "id": "H9tvfaQTrPB_"
      },
      "source": [
        "n = 20\n",
        "std = 2\n",
        "mean = 30\n",
        "bodysize = np.random.normal(loc=mean, scale=std, size=n)\n",
        "bodysize = np.array([26,27,28,28,28,28,29,29,29,29,30,30,30,30,31,31,32,32,34,35])\n",
        "survive= np.array([0,0,0,0,0,1,0,1,0,0,1,1,0,1,1,1,0,1,1,1])\n",
        "dat = pd.DataFrame({'bodysize':bodysize,'survive':survive})\n",
        "y, X = dmatrices('survive ~ bodysize', dat, return_type = 'dataframe')"
      ],
      "execution_count": null,
      "outputs": []
    },
    {
      "cell_type": "markdown",
      "metadata": {
        "id": "diZ5aRgDqNCP"
      },
      "source": [
        "Now we can plot using the glm model based on each feature as follows. Here we just have one feature which is Body Size:\n"
      ]
    },
    {
      "cell_type": "code",
      "metadata": {
        "id": "6VrSknwNuC-t",
        "colab": {
          "base_uri": "https://localhost:8080/",
          "height": 331
        },
        "outputId": "3309a862-1bdc-407b-c206-8e847f6a1874"
      },
      "source": [
        "logit = sm.Logit(y , X)\n",
        "logreg = logit.fit()\n",
        "pred = logreg.predict(X)\n",
        "plt.scatter(dat['bodysize'], dat['survive'])\n",
        "plt.scatter(dat['bodysize'], pred)\n",
        "plt.xlabel('Bodysize')\n",
        "plt.xlabel('Survive Probability')\n",
        "plt.show()"
      ],
      "execution_count": null,
      "outputs": [
        {
          "output_type": "stream",
          "name": "stdout",
          "text": [
            "Optimization terminated successfully.\n",
            "         Current function value: 0.507163\n",
            "         Iterations 7\n"
          ]
        },
        {
          "output_type": "display_data",
          "data": {
            "text/plain": [
              "<Figure size 432x288 with 1 Axes>"
            ],
            "image/png": "[encoded data removed]"
          },
          "metadata": {
            "needs_background": "light"
          }
        }
      ]
    },
    {
      "cell_type": "markdown",
      "metadata": {
        "id": "Z-5wC5lLvCdW"
      },
      "source": [
        "# Q3"
      ]
    },
    {
      "cell_type": "markdown",
      "metadata": {
        "id": "5HMDZ_R6vJxl"
      },
      "source": [
        "Read the yelp dataset provided in the course shell. \n"
      ]
    },
    {
      "cell_type": "code",
      "metadata": {
        "id": "9tgEIS1BHy3S"
      },
      "source": [
        "import pandas as pd\n",
        "dataset_yelp=pd.read_csv(\"Lab 7 yelp_dataset.csv\")\n",
        "dataset_yelp.rename(columns = {'class':'yelp_class'}, inplace = True)"
      ],
      "execution_count": null,
      "outputs": []
    },
    {
      "cell_type": "code",
      "source": [
        "from google.colab import drive\n",
        "drive.mount('/content/drive')"
      ],
      "metadata": {
        "colab": {
          "base_uri": "https://localhost:8080/",
          "height": 346
        },
        "id": "XNmUS7hQ7hE7",
        "outputId": "970d67a0-705d-42a5-8db7-5d7bcfae9741"
      },
      "execution_count": null,
      "outputs": [
        {
          "output_type": "error",
          "ename": "MessageError",
          "evalue": "ignored",
          "traceback": [
            "\u001b[0;31m---------------------------------------------------------------------------\u001b[0m",
            "\u001b[0;31mMessageError\u001b[0m                              Traceback (most recent call last)",
            "\u001b[0;32m<ipython-input-24-d5df0069828e>\u001b[0m in \u001b[0;36m<module>\u001b[0;34m()\u001b[0m\n\u001b[1;32m      1\u001b[0m \u001b[0;32mfrom\u001b[0m \u001b[0mgoogle\u001b[0m\u001b[0;34m.\u001b[0m\u001b[0mcolab\u001b[0m \u001b[0;32mimport\u001b[0m \u001b[0mdrive\u001b[0m\u001b[0;34m\u001b[0m\u001b[0;34m\u001b[0m\u001b[0m\n\u001b[0;32m----> 2\u001b[0;31m \u001b[0mdrive\u001b[0m\u001b[0;34m.\u001b[0m\u001b[0mmount\u001b[0m\u001b[0;34m(\u001b[0m\u001b[0;34m'/content/drive'\u001b[0m\u001b[0;34m)\u001b[0m\u001b[0;34m\u001b[0m\u001b[0;34m\u001b[0m\u001b[0m\n\u001b[0m",
            "\u001b[0;32m/usr/local/lib/python3.7/dist-packages/google/colab/drive.py\u001b[0m in \u001b[0;36mmount\u001b[0;34m(mountpoint, force_remount, timeout_ms)\u001b[0m\n\u001b[1;32m    107\u001b[0m       \u001b[0mforce_remount\u001b[0m\u001b[0;34m=\u001b[0m\u001b[0mforce_remount\u001b[0m\u001b[0;34m,\u001b[0m\u001b[0;34m\u001b[0m\u001b[0;34m\u001b[0m\u001b[0m\n\u001b[1;32m    108\u001b[0m       \u001b[0mtimeout_ms\u001b[0m\u001b[0;34m=\u001b[0m\u001b[0mtimeout_ms\u001b[0m\u001b[0;34m,\u001b[0m\u001b[0;34m\u001b[0m\u001b[0;34m\u001b[0m\u001b[0m\n\u001b[0;32m--> 109\u001b[0;31m       ephemeral=True)\n\u001b[0m\u001b[1;32m    110\u001b[0m \u001b[0;34m\u001b[0m\u001b[0m\n\u001b[1;32m    111\u001b[0m \u001b[0;34m\u001b[0m\u001b[0m\n",
            "\u001b[0;32m/usr/local/lib/python3.7/dist-packages/google/colab/drive.py\u001b[0m in \u001b[0;36m_mount\u001b[0;34m(mountpoint, force_remount, timeout_ms, ephemeral)\u001b[0m\n\u001b[1;32m    122\u001b[0m   \u001b[0;32mif\u001b[0m \u001b[0mephemeral\u001b[0m\u001b[0;34m:\u001b[0m\u001b[0;34m\u001b[0m\u001b[0;34m\u001b[0m\u001b[0m\n\u001b[1;32m    123\u001b[0m     _message.blocking_request(\n\u001b[0;32m--> 124\u001b[0;31m         'request_auth', request={'authType': 'dfs_ephemeral'}, timeout_sec=None)\n\u001b[0m\u001b[1;32m    125\u001b[0m \u001b[0;34m\u001b[0m\u001b[0m\n\u001b[1;32m    126\u001b[0m   \u001b[0mmountpoint\u001b[0m \u001b[0;34m=\u001b[0m \u001b[0m_os\u001b[0m\u001b[0;34m.\u001b[0m\u001b[0mpath\u001b[0m\u001b[0;34m.\u001b[0m\u001b[0mexpanduser\u001b[0m\u001b[0;34m(\u001b[0m\u001b[0mmountpoint\u001b[0m\u001b[0;34m)\u001b[0m\u001b[0;34m\u001b[0m\u001b[0;34m\u001b[0m\u001b[0m\n",
            "\u001b[0;32m/usr/local/lib/python3.7/dist-packages/google/colab/_message.py\u001b[0m in \u001b[0;36mblocking_request\u001b[0;34m(request_type, request, timeout_sec, parent)\u001b[0m\n\u001b[1;32m    173\u001b[0m   request_id = send_request(\n\u001b[1;32m    174\u001b[0m       request_type, request, parent=parent, expect_reply=True)\n\u001b[0;32m--> 175\u001b[0;31m   \u001b[0;32mreturn\u001b[0m \u001b[0mread_reply_from_input\u001b[0m\u001b[0;34m(\u001b[0m\u001b[0mrequest_id\u001b[0m\u001b[0;34m,\u001b[0m \u001b[0mtimeout_sec\u001b[0m\u001b[0;34m)\u001b[0m\u001b[0;34m\u001b[0m\u001b[0;34m\u001b[0m\u001b[0m\n\u001b[0m",
            "\u001b[0;32m/usr/local/lib/python3.7/dist-packages/google/colab/_message.py\u001b[0m in \u001b[0;36mread_reply_from_input\u001b[0;34m(message_id, timeout_sec)\u001b[0m\n\u001b[1;32m    104\u001b[0m         reply.get('colab_msg_id') == message_id):\n\u001b[1;32m    105\u001b[0m       \u001b[0;32mif\u001b[0m \u001b[0;34m'error'\u001b[0m \u001b[0;32min\u001b[0m \u001b[0mreply\u001b[0m\u001b[0;34m:\u001b[0m\u001b[0;34m\u001b[0m\u001b[0;34m\u001b[0m\u001b[0m\n\u001b[0;32m--> 106\u001b[0;31m         \u001b[0;32mraise\u001b[0m \u001b[0mMessageError\u001b[0m\u001b[0;34m(\u001b[0m\u001b[0mreply\u001b[0m\u001b[0;34m[\u001b[0m\u001b[0;34m'error'\u001b[0m\u001b[0;34m]\u001b[0m\u001b[0;34m)\u001b[0m\u001b[0;34m\u001b[0m\u001b[0;34m\u001b[0m\u001b[0m\n\u001b[0m\u001b[1;32m    107\u001b[0m       \u001b[0;32mreturn\u001b[0m \u001b[0mreply\u001b[0m\u001b[0;34m.\u001b[0m\u001b[0mget\u001b[0m\u001b[0;34m(\u001b[0m\u001b[0;34m'data'\u001b[0m\u001b[0;34m,\u001b[0m \u001b[0;32mNone\u001b[0m\u001b[0;34m)\u001b[0m\u001b[0;34m\u001b[0m\u001b[0;34m\u001b[0m\u001b[0m\n\u001b[1;32m    108\u001b[0m \u001b[0;34m\u001b[0m\u001b[0m\n",
            "\u001b[0;31mMessageError\u001b[0m: Error: credential propagation was unsuccessful"
          ]
        }
      ]
    },
    {
      "cell_type": "markdown",
      "metadata": {
        "id": "8KXT8K97a8AB"
      },
      "source": [
        "*Note on the Dataset*: \n",
        "This dataset has been pre-processed and includes the restaurants registered in Yelp platform within the regions of Toronto, Markham and Mississauga. \n",
        "The original dataset is downloaded from: https://www.kaggle.com/ivy1219/analysis-on-yelp/data or can be directly downloaded from yelp website in JSON or SQL format: https://www.yelp.com/dataset. \n",
        "Here is the description given from the Yelp website: \"The Yelp dataset is a subset of our businesses, reviews, and user data for use in personal, educational, and academic purposes. Available in both JSON and SQL files, use it to teach students about databases, to learn NLP, or for sample production data while you learn how to make mobile apps.\"\n",
        "\n",
        "*Goal*\n",
        "The goal is to estimate how well will a restaurant's rating be, through the number of stars on Yelp, depending on the type of restaurant, location and number of reviews. We want to know if a restaurant will be rated as 4 or 5 stars or less than 4 stars.\n",
        "Our dependent variable is: stars.\n",
        "For simplicity, we have gruped the stars variable as follows: \n",
        "- 1, 1.5, 2, 2.5, 3 or 3.5 stars are set to 0 (considered a 'failure' in the glm model)\n",
        "- 4, 4.5, or 5 stars are set to 1 (considered a 'success' in the glm model)\n",
        "\n",
        "The dataset shared in the course shell is already modified to reflect binary levels of the dependant variable, 0 and 1.\n",
        "\n",
        "*Splitting the data*"
      ]
    },
    {
      "cell_type": "code",
      "metadata": {
        "id": "TGNRFbpyvI-z"
      },
      "source": [
        "train_set, test_set = train_test_split(dataset_yelp, train_size=0.7, random_state=1)"
      ],
      "execution_count": null,
      "outputs": []
    },
    {
      "cell_type": "code",
      "metadata": {
        "id": "4p5jbroTb9v9",
        "colab": {
          "base_uri": "https://localhost:8080/",
          "height": 510
        },
        "outputId": "2389a169-acba-4e85-ebce-87c69b35137f"
      },
      "source": [
        "y_train, X_train = dmatrices('yelp_class ~ city + review_count + categories', train_set, return_type = 'dataframe')\n",
        "logit = sm.Logit(y_train , X_train)\n",
        "logreg = logit.fit()\n",
        "logreg.summary()"
      ],
      "execution_count": null,
      "outputs": [
        {
          "output_type": "stream",
          "name": "stdout",
          "text": [
            "Optimization terminated successfully.\n",
            "         Current function value: 0.623758\n",
            "         Iterations 5\n"
          ]
        },
        {
          "output_type": "execute_result",
          "data": {
            "text/plain": [
              "<class 'statsmodels.iolib.summary.Summary'>\n",
              "\"\"\"\n",
              "                           Logit Regression Results                           \n",
              "==============================================================================\n",
              "Dep. Variable:             yelp_class   No. Observations:                 6453\n",
              "Model:                          Logit   Df Residuals:                     6441\n",
              "Method:                           MLE   Df Model:                           11\n",
              "Date:                Tue, 31 May 2022   Pseudo R-squ.:                 0.02474\n",
              "Time:                        17:04:36   Log-Likelihood:                -4025.1\n",
              "converged:                       True   LL-Null:                       -4127.2\n",
              "Covariance Type:            nonrobust   LLR p-value:                 9.756e-38\n",
              "======================================================================================================\n",
              "                                         coef    std err          z      P>|z|      [0.025      0.975]\n",
              "------------------------------------------------------------------------------------------------------\n",
              "Intercept                             -1.5881      0.116    -13.741      0.000      -1.815      -1.362\n",
              "city[T.Missisauga]                     0.6905      0.131      5.259      0.000       0.433       0.948\n",
              "city[T.Toronto]                        0.6359      0.114      5.569      0.000       0.412       0.860\n",
              "categories[T.Coffee or Sandwiches]     0.6718      0.092      7.325      0.000       0.492       0.852\n",
              "categories[T.Fast Food]               -0.2321      0.092     -2.526      0.012      -0.412      -0.052\n",
              "categories[T.Italian]                  0.5280      0.161      3.281      0.001       0.213       0.843\n",
              "categories[T.Latin]                    0.4463      0.132      3.391      0.001       0.188       0.704\n",
              "categories[T.Middle Eastern]           0.2053      0.094      2.183      0.029       0.021       0.390\n",
              "categories[T.North American]           0.2303      0.100      2.304      0.021       0.034       0.426\n",
              "categories[T.Other]                    0.4639      0.104      4.441      0.000       0.259       0.669\n",
              "categories[T.Pub]                      0.4792      0.110      4.352      0.000       0.263       0.695\n",
              "review_count                           0.0024      0.000      5.880      0.000       0.002       0.003\n",
              "======================================================================================================\n",
              "\"\"\""
            ],
            "text/html": [
              "<table class=\"simpletable\">\n",
              "<caption>Logit Regression Results</caption>\n",
              "<tr>\n",
              "  <th>Dep. Variable:</th>      <td>yelp_class</td>    <th>  No. Observations:  </th>  <td>  6453</td>  \n",
              "</tr>\n",
              "<tr>\n",
              "  <th>Model:</th>                 <td>Logit</td>      <th>  Df Residuals:      </th>  <td>  6441</td>  \n",
              "</tr>\n",
              "<tr>\n",
              "  <th>Method:</th>                 <td>MLE</td>       <th>  Df Model:          </th>  <td>    11</td>  \n",
              "</tr>\n",
              "<tr>\n",
              "  <th>Date:</th>            <td>Tue, 31 May 2022</td> <th>  Pseudo R-squ.:     </th>  <td>0.02474</td> \n",
              "</tr>\n",
              "<tr>\n",
              "  <th>Time:</th>                <td>17:04:36</td>     <th>  Log-Likelihood:    </th> <td> -4025.1</td> \n",
              "</tr>\n",
              "<tr>\n",
              "  <th>converged:</th>             <td>True</td>       <th>  LL-Null:           </th> <td> -4127.2</td> \n",
              "</tr>\n",
              "<tr>\n",
              "  <th>Covariance Type:</th>     <td>nonrobust</td>    <th>  LLR p-value:       </th> <td>9.756e-38</td>\n",
              "</tr>\n",
              "</table>\n",
              "<table class=\"simpletable\">\n",
              "<tr>\n",
              "                   <td></td>                     <th>coef</th>     <th>std err</th>      <th>z</th>      <th>P>|z|</th>  <th>[0.025</th>    <th>0.975]</th>  \n",
              "</tr>\n",
              "<tr>\n",
              "  <th>Intercept</th>                          <td>   -1.5881</td> <td>    0.116</td> <td>  -13.741</td> <td> 0.000</td> <td>   -1.815</td> <td>   -1.362</td>\n",
              "</tr>\n",
              "<tr>\n",
              "  <th>city[T.Missisauga]</th>                 <td>    0.6905</td> <td>    0.131</td> <td>    5.259</td> <td> 0.000</td> <td>    0.433</td> <td>    0.948</td>\n",
              "</tr>\n",
              "<tr>\n",
              "  <th>city[T.Toronto]</th>                    <td>    0.6359</td> <td>    0.114</td> <td>    5.569</td> <td> 0.000</td> <td>    0.412</td> <td>    0.860</td>\n",
              "</tr>\n",
              "<tr>\n",
              "  <th>categories[T.Coffee or Sandwiches]</th> <td>    0.6718</td> <td>    0.092</td> <td>    7.325</td> <td> 0.000</td> <td>    0.492</td> <td>    0.852</td>\n",
              "</tr>\n",
              "<tr>\n",
              "  <th>categories[T.Fast Food]</th>            <td>   -0.2321</td> <td>    0.092</td> <td>   -2.526</td> <td> 0.012</td> <td>   -0.412</td> <td>   -0.052</td>\n",
              "</tr>\n",
              "<tr>\n",
              "  <th>categories[T.Italian]</th>              <td>    0.5280</td> <td>    0.161</td> <td>    3.281</td> <td> 0.001</td> <td>    0.213</td> <td>    0.843</td>\n",
              "</tr>\n",
              "<tr>\n",
              "  <th>categories[T.Latin]</th>                <td>    0.4463</td> <td>    0.132</td> <td>    3.391</td> <td> 0.001</td> <td>    0.188</td> <td>    0.704</td>\n",
              "</tr>\n",
              "<tr>\n",
              "  <th>categories[T.Middle Eastern]</th>       <td>    0.2053</td> <td>    0.094</td> <td>    2.183</td> <td> 0.029</td> <td>    0.021</td> <td>    0.390</td>\n",
              "</tr>\n",
              "<tr>\n",
              "  <th>categories[T.North American]</th>       <td>    0.2303</td> <td>    0.100</td> <td>    2.304</td> <td> 0.021</td> <td>    0.034</td> <td>    0.426</td>\n",
              "</tr>\n",
              "<tr>\n",
              "  <th>categories[T.Other]</th>                <td>    0.4639</td> <td>    0.104</td> <td>    4.441</td> <td> 0.000</td> <td>    0.259</td> <td>    0.669</td>\n",
              "</tr>\n",
              "<tr>\n",
              "  <th>categories[T.Pub]</th>                  <td>    0.4792</td> <td>    0.110</td> <td>    4.352</td> <td> 0.000</td> <td>    0.263</td> <td>    0.695</td>\n",
              "</tr>\n",
              "<tr>\n",
              "  <th>review_count</th>                       <td>    0.0024</td> <td>    0.000</td> <td>    5.880</td> <td> 0.000</td> <td>    0.002</td> <td>    0.003</td>\n",
              "</tr>\n",
              "</table>"
            ]
          },
          "metadata": {},
          "execution_count": 50
        }
      ]
    },
    {
      "cell_type": "markdown",
      "metadata": {
        "id": "K1NqhE17c9sw"
      },
      "source": [
        "Before proceeding to the model evaluation, let us predict an outcome with the glm_model that we constructed on the training set.\n",
        "\n",
        "Let's assume a new coffee shop has just opened in Toronto and wants to know how many stars it is likely to get if the business registers in Yelp. The coffee shop is expecting to receive 200 reviews from its customers. \n",
        "Predict the likelihood of the coffee shop to be ranked as 4, 4.5 or 5 stars. Derive the result using the information in summary(glm_model) on one hand, and using the 'predict' function.\n",
        "\n",
        "Hint for using the information in summary(glm_model): 1/(1+exp(-(y)), where y is the output of the linear model. Remember that glm gives us the log odds of a restaurant (or coffee shop) to have 4, 4.5 or 5 stars.\n",
        "\n",
        "Manual Calculation"
      ]
    },
    {
      "cell_type": "code",
      "metadata": {
        "id": "jmjv_p2fc4d2"
      },
      "source": [
        "# 1/(1+exp(-((Intercept)+cityToronto+200*review_count+categoriesCoffee or Sandwiches))) "
      ],
      "execution_count": null,
      "outputs": []
    },
    {
      "cell_type": "code",
      "metadata": {
        "id": "cnKODQytdBQY",
        "colab": {
          "base_uri": "https://localhost:8080/"
        },
        "outputId": "f99650eb-c9ba-424a-af1a-29646c54f483"
      },
      "source": [
        "y_test, X_test = dmatrices('yelp_class ~ city + review_count + categories', test_set, return_type = 'dataframe')\n",
        "pred = logreg.predict(X_test)\n",
        "pred = pred > 0.5\n",
        "actual = y_test > 0.5\n",
        "\n",
        "from sklearn.metrics import confusion_matrix\n",
        "cm = confusion_matrix(actual, pred)\n",
        "print(cm)\n",
        "accuracy = float((cm[0][0] + cm[1][1]))/float(len(actual))\n",
        "print(accuracy)"
      ],
      "execution_count": null,
      "outputs": [
        {
          "output_type": "stream",
          "name": "stdout",
          "text": [
            "[[1784   23]\n",
            " [ 929   30]]\n",
            "0.6558206796818511\n"
          ]
        }
      ]
    },
    {
      "cell_type": "markdown",
      "metadata": {
        "id": "-EPBd0KHx3YG"
      },
      "source": [
        "In this approach, we have set the threshhold to 0.5. Meaning that all probability equal or higher to 0.5 will be classified as a success (greater than 4 stars ranking) and all probability less than 0.5 will be classified as a failure (less than 4 stars ranking). Try to change the threshhold and compare the accuracy level of the classifer."
      ]
    },
    {
      "cell_type": "markdown",
      "metadata": {
        "id": "LDdVG0mZxl0R"
      },
      "source": [
        "Prepared by Dr. Ceni Babaoglu."
      ]
    }
  ]
}